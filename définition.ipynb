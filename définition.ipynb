{
 "cells": [
  {
   "cell_type": "markdown",
   "metadata": {},
   "source": [
    "TP3   Bot discord"
   ]
  },
  {
   "cell_type": "markdown",
   "metadata": {},
   "source": [
    "1. Qu’est-ce qu’un bot ?\n",
    "\n",
    "Un bot Discord, dans le contexte de la plateforme Discord, est un programme automatisé qui peut effectuer des tâches et interagir avec les utilisateurs dans les serveurs Discord. Les bots peuvent être programmés pour répondre à des commandes spécifiques, modérer des conversations, gérer des tâches administratives, fournir du divertissement, et bien plus encore."
   ]
  },
  {
   "cell_type": "markdown",
   "metadata": {},
   "source": [
    "2. Qu'est ce que le logging. À quoi servent les logs?\n",
    "\n",
    "Le logging, ou journalisation en français, est le processus d'enregistrement d'événements, de messages, d'erreurs ou d'autres informations générées par un logiciel ou un système d'exploitation dans un ou plusieurs fichiers de journal (logs). "
   ]
  },
  {
   "cell_type": "code",
   "execution_count": null,
   "metadata": {},
   "outputs": [],
   "source": []
  }
 ],
 "metadata": {
  "language_info": {
   "name": "python"
  }
 },
 "nbformat": 4,
 "nbformat_minor": 2
}
